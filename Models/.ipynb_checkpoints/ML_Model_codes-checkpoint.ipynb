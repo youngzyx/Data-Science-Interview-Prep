{
 "cells": [
  {
   "cell_type": "code",
   "execution_count": 70,
   "id": "84971f68",
   "metadata": {
    "ExecuteTime": {
     "end_time": "2023-05-15T03:03:07.036718Z",
     "start_time": "2023-05-15T03:03:07.033739Z"
    }
   },
   "outputs": [],
   "source": [
    "import pandas as pd\n",
    "import numpy as np\n",
    "from sklearn import datasets\n",
    "from sklearn.model_selection import train_test_split\n",
    "from sklearn.metrics import mean_squared_error,roc_auc_score,f1_score,accuracy_score"
   ]
  },
  {
   "cell_type": "markdown",
   "id": "fd0617e1",
   "metadata": {},
   "source": [
    "# 1. Linear Models\n",
    "## 1.1 OLS"
   ]
  },
  {
   "cell_type": "code",
   "execution_count": 2,
   "id": "0c555e4a",
   "metadata": {
    "ExecuteTime": {
     "end_time": "2023-05-14T19:11:03.774698Z",
     "start_time": "2023-05-14T19:11:03.040764Z"
    }
   },
   "outputs": [],
   "source": [
    "from sklearn import linear_model"
   ]
  },
  {
   "cell_type": "code",
   "execution_count": 5,
   "id": "713e9f11",
   "metadata": {
    "ExecuteTime": {
     "end_time": "2023-05-14T19:17:19.551564Z",
     "start_time": "2023-05-14T19:17:19.521436Z"
    }
   },
   "outputs": [],
   "source": [
    "housing = datasets.fetch_california_housing()"
   ]
  },
  {
   "cell_type": "code",
   "execution_count": 8,
   "id": "7202c365",
   "metadata": {
    "ExecuteTime": {
     "end_time": "2023-05-14T19:18:31.904955Z",
     "start_time": "2023-05-14T19:18:31.896909Z"
    }
   },
   "outputs": [
    {
     "data": {
      "text/plain": [
       "((20640, 8), (20640,))"
      ]
     },
     "execution_count": 8,
     "metadata": {},
     "output_type": "execute_result"
    }
   ],
   "source": [
    "X = housing['data']\n",
    "y = housing['target']\n",
    "X.shape, y.shape"
   ]
  },
  {
   "cell_type": "code",
   "execution_count": 13,
   "id": "cbae4e6e",
   "metadata": {
    "ExecuteTime": {
     "end_time": "2023-05-14T19:25:42.054206Z",
     "start_time": "2023-05-14T19:25:42.022978Z"
    }
   },
   "outputs": [
    {
     "data": {
      "text/plain": [
       "array([0, 0, 0, 0, 0, 0, 0, 0])"
      ]
     },
     "execution_count": 13,
     "metadata": {},
     "output_type": "execute_result"
    }
   ],
   "source": [
    "sum(np.isnan(X))"
   ]
  },
  {
   "cell_type": "code",
   "execution_count": 14,
   "id": "3b28ae2e",
   "metadata": {
    "ExecuteTime": {
     "end_time": "2023-05-14T19:27:01.500640Z",
     "start_time": "2023-05-14T19:27:01.443989Z"
    }
   },
   "outputs": [
    {
     "data": {
      "text/plain": [
       "0"
      ]
     },
     "execution_count": 14,
     "metadata": {},
     "output_type": "execute_result"
    }
   ],
   "source": [
    "sum(np.isnan(y))"
   ]
  },
  {
   "cell_type": "code",
   "execution_count": 17,
   "id": "e1c203de",
   "metadata": {
    "ExecuteTime": {
     "end_time": "2023-05-14T19:30:43.461479Z",
     "start_time": "2023-05-14T19:30:43.452462Z"
    }
   },
   "outputs": [],
   "source": [
    "X_train,X_test,y_train,y_test = train_test_split(X,y,test_size=0.3,random_state = 1)"
   ]
  },
  {
   "cell_type": "code",
   "execution_count": 18,
   "id": "9a109973",
   "metadata": {
    "ExecuteTime": {
     "end_time": "2023-05-14T19:34:16.391363Z",
     "start_time": "2023-05-14T19:34:16.376324Z"
    }
   },
   "outputs": [
    {
     "data": {
      "text/plain": [
       "LinearRegression()"
      ]
     },
     "execution_count": 18,
     "metadata": {},
     "output_type": "execute_result"
    }
   ],
   "source": [
    "reg = linear_model.LinearRegression()\n",
    "reg.fit(X_train,y_train)"
   ]
  },
  {
   "cell_type": "code",
   "execution_count": 25,
   "id": "5becd8c7",
   "metadata": {
    "ExecuteTime": {
     "end_time": "2023-05-14T19:37:25.755159Z",
     "start_time": "2023-05-14T19:37:25.750582Z"
    }
   },
   "outputs": [],
   "source": [
    "y_pred = reg.predict(X_test)"
   ]
  },
  {
   "cell_type": "code",
   "execution_count": 22,
   "id": "2bc36ab1",
   "metadata": {
    "ExecuteTime": {
     "end_time": "2023-05-14T19:35:25.943977Z",
     "start_time": "2023-05-14T19:35:25.937173Z"
    }
   },
   "outputs": [
    {
     "data": {
      "text/plain": [
       "array([ 4.41037995e-01,  9.68801816e-03, -1.04781309e-01,  6.22052706e-01,\n",
       "       -5.61452681e-06, -3.28792384e-03, -4.23182318e-01, -4.37898856e-01])"
      ]
     },
     "execution_count": 22,
     "metadata": {},
     "output_type": "execute_result"
    }
   ],
   "source": [
    "reg.coef_"
   ]
  },
  {
   "cell_type": "code",
   "execution_count": 28,
   "id": "05b0e176",
   "metadata": {
    "ExecuteTime": {
     "end_time": "2023-05-14T19:39:23.777063Z",
     "start_time": "2023-05-14T19:39:23.770436Z"
    }
   },
   "outputs": [
    {
     "data": {
      "text/plain": [
       "0.5296293151408283"
      ]
     },
     "execution_count": 28,
     "metadata": {},
     "output_type": "execute_result"
    }
   ],
   "source": [
    "mse = np.sum(np.square(y_pred-y_test))/y_test.shape[0]\n",
    "mse"
   ]
  },
  {
   "cell_type": "code",
   "execution_count": 30,
   "id": "624b76fc",
   "metadata": {
    "ExecuteTime": {
     "end_time": "2023-05-14T19:40:38.905934Z",
     "start_time": "2023-05-14T19:40:38.898458Z"
    }
   },
   "outputs": [
    {
     "data": {
      "text/plain": [
       "0.5296293151408283"
      ]
     },
     "execution_count": 30,
     "metadata": {},
     "output_type": "execute_result"
    }
   ],
   "source": [
    "mean_squared_error(y_test,y_pred)"
   ]
  },
  {
   "cell_type": "code",
   "execution_count": 31,
   "id": "6cdd48d1",
   "metadata": {
    "ExecuteTime": {
     "end_time": "2023-05-14T19:48:07.873399Z",
     "start_time": "2023-05-14T19:48:07.869583Z"
    }
   },
   "outputs": [
    {
     "data": {
      "text/plain": [
       "-37.285328998751524"
      ]
     },
     "execution_count": 31,
     "metadata": {},
     "output_type": "execute_result"
    }
   ],
   "source": [
    "reg.intercept_"
   ]
  },
  {
   "cell_type": "code",
   "execution_count": 33,
   "id": "aa1258dd",
   "metadata": {
    "ExecuteTime": {
     "end_time": "2023-05-14T19:48:22.980197Z",
     "start_time": "2023-05-14T19:48:22.976392Z"
    }
   },
   "outputs": [
    {
     "data": {
      "text/plain": [
       "{'copy_X': True,\n",
       " 'fit_intercept': True,\n",
       " 'n_jobs': None,\n",
       " 'normalize': False,\n",
       " 'positive': False}"
      ]
     },
     "execution_count": 33,
     "metadata": {},
     "output_type": "execute_result"
    }
   ],
   "source": [
    "reg.get_params()\n",
    "#positive:True -> non-negative Least Squares"
   ]
  },
  {
   "cell_type": "markdown",
   "id": "8829a990",
   "metadata": {},
   "source": [
    "## 1.2 Ridge Regression"
   ]
  },
  {
   "cell_type": "code",
   "execution_count": 36,
   "id": "950af7f7",
   "metadata": {
    "ExecuteTime": {
     "end_time": "2023-05-14T20:07:47.303352Z",
     "start_time": "2023-05-14T20:07:47.276122Z"
    }
   },
   "outputs": [
    {
     "data": {
      "text/plain": [
       "Ridge(alpha=0.5)"
      ]
     },
     "execution_count": 36,
     "metadata": {},
     "output_type": "execute_result"
    }
   ],
   "source": [
    "reg_ridge = linear_model.Ridge(alpha = .5)\n",
    "# the complexity parameter alpha>0 controls the amount of shrinkage: the larger the value of \n",
    "# alpha, the greater the amount of sharinkage and thus the coefficients become more robust to collinearity\n",
    "reg_ridge.fit(X_train,y_train)"
   ]
  },
  {
   "cell_type": "code",
   "execution_count": 38,
   "id": "e43c45d1",
   "metadata": {
    "ExecuteTime": {
     "end_time": "2023-05-14T20:08:17.845002Z",
     "start_time": "2023-05-14T20:08:17.838794Z"
    }
   },
   "outputs": [
    {
     "data": {
      "text/plain": [
       "array([ 4.40972418e-01,  9.68921247e-03, -1.04657013e-01,  6.21406484e-01,\n",
       "       -5.60959323e-06, -3.28777964e-03, -4.23168999e-01, -4.37876064e-01])"
      ]
     },
     "execution_count": 38,
     "metadata": {},
     "output_type": "execute_result"
    }
   ],
   "source": [
    "reg_ridge.coef_"
   ]
  },
  {
   "cell_type": "code",
   "execution_count": 39,
   "id": "5a86a7ad",
   "metadata": {
    "ExecuteTime": {
     "end_time": "2023-05-14T20:08:53.725723Z",
     "start_time": "2023-05-14T20:08:53.721257Z"
    }
   },
   "outputs": [],
   "source": [
    "y_pred_ridge = reg_ridge.predict(X_test)"
   ]
  },
  {
   "cell_type": "code",
   "execution_count": 40,
   "id": "9b1f438e",
   "metadata": {
    "ExecuteTime": {
     "end_time": "2023-05-14T20:09:08.712639Z",
     "start_time": "2023-05-14T20:09:08.706878Z"
    }
   },
   "outputs": [
    {
     "data": {
      "text/plain": [
       "0.5296312211635243"
      ]
     },
     "execution_count": 40,
     "metadata": {},
     "output_type": "execute_result"
    }
   ],
   "source": [
    "mean_squared_error(y_test,y_pred_ridge)"
   ]
  },
  {
   "cell_type": "markdown",
   "id": "d1f1d4a0",
   "metadata": {
    "ExecuteTime": {
     "end_time": "2023-05-14T20:09:36.395720Z",
     "start_time": "2023-05-14T20:09:36.391955Z"
    }
   },
   "source": [
    "## 1.3 Lasso Regression"
   ]
  },
  {
   "cell_type": "code",
   "execution_count": 42,
   "id": "77601641",
   "metadata": {
    "ExecuteTime": {
     "end_time": "2023-05-14T20:12:51.872373Z",
     "start_time": "2023-05-14T20:12:51.867714Z"
    }
   },
   "outputs": [],
   "source": [
    "reg_lasso = linear_model.Lasso(alpha=0.1)"
   ]
  },
  {
   "cell_type": "code",
   "execution_count": 44,
   "id": "49ed7037",
   "metadata": {
    "ExecuteTime": {
     "end_time": "2023-05-14T20:13:22.154958Z",
     "start_time": "2023-05-14T20:13:22.142104Z"
    }
   },
   "outputs": [
    {
     "data": {
      "text/plain": [
       "Lasso(alpha=0.1)"
      ]
     },
     "execution_count": 44,
     "metadata": {},
     "output_type": "execute_result"
    }
   ],
   "source": [
    "reg_lasso.fit(X_train,y_train)"
   ]
  },
  {
   "cell_type": "code",
   "execution_count": 47,
   "id": "b4abdb9f",
   "metadata": {
    "ExecuteTime": {
     "end_time": "2023-05-14T20:28:27.125343Z",
     "start_time": "2023-05-14T20:28:27.121599Z"
    }
   },
   "outputs": [],
   "source": [
    "y_pred_lasso = reg_lasso.predict(X_test)"
   ]
  },
  {
   "cell_type": "code",
   "execution_count": 48,
   "id": "d473dd15",
   "metadata": {
    "ExecuteTime": {
     "end_time": "2023-05-14T20:28:28.558812Z",
     "start_time": "2023-05-14T20:28:28.553155Z"
    }
   },
   "outputs": [
    {
     "data": {
      "text/plain": [
       "0.6052188834351544"
      ]
     },
     "execution_count": 48,
     "metadata": {},
     "output_type": "execute_result"
    }
   ],
   "source": [
    "mean_squared_error(y_test,y_pred_lasso)"
   ]
  },
  {
   "cell_type": "code",
   "execution_count": 49,
   "id": "8e31fda9",
   "metadata": {
    "ExecuteTime": {
     "end_time": "2023-05-14T20:28:46.155260Z",
     "start_time": "2023-05-14T20:28:46.146888Z"
    }
   },
   "outputs": [
    {
     "data": {
      "text/plain": [
       "array([ 3.95882259e-01,  1.54117664e-02, -0.00000000e+00,  0.00000000e+00,\n",
       "        1.57546927e-05, -3.06888971e-03, -1.13744058e-01, -1.00746624e-01])"
      ]
     },
     "execution_count": 49,
     "metadata": {},
     "output_type": "execute_result"
    }
   ],
   "source": [
    "reg_lasso.coef_"
   ]
  },
  {
   "cell_type": "markdown",
   "id": "dfc51874",
   "metadata": {},
   "source": [
    "## 1.4 Logistic Regression"
   ]
  },
  {
   "cell_type": "code",
   "execution_count": 51,
   "id": "1311f0f6",
   "metadata": {
    "ExecuteTime": {
     "end_time": "2023-05-14T22:50:28.927733Z",
     "start_time": "2023-05-14T22:50:28.910795Z"
    }
   },
   "outputs": [
    {
     "data": {
      "text/plain": [
       "((569, 30), (569,))"
      ]
     },
     "execution_count": 51,
     "metadata": {},
     "output_type": "execute_result"
    }
   ],
   "source": [
    "breast = datasets.load_breast_cancer()\n",
    "X = breast['data']\n",
    "y = breast['target']\n",
    "X.shape, y.shape"
   ]
  },
  {
   "cell_type": "code",
   "execution_count": 64,
   "id": "6b3e99c7",
   "metadata": {
    "ExecuteTime": {
     "end_time": "2023-05-15T02:54:26.306631Z",
     "start_time": "2023-05-15T02:54:26.299361Z"
    }
   },
   "outputs": [
    {
     "data": {
      "text/plain": [
       "array([1.799e+01, 1.038e+01, 1.228e+02, 1.001e+03, 1.184e-01, 2.776e-01,\n",
       "       3.001e-01, 1.471e-01, 2.419e-01, 7.871e-02, 1.095e+00, 9.053e-01,\n",
       "       8.589e+00, 1.534e+02, 6.399e-03, 4.904e-02, 5.373e-02, 1.587e-02,\n",
       "       3.003e-02, 6.193e-03, 2.538e+01, 1.733e+01, 1.846e+02, 2.019e+03,\n",
       "       1.622e-01, 6.656e-01, 7.119e-01, 2.654e-01, 4.601e-01, 1.189e-01])"
      ]
     },
     "execution_count": 64,
     "metadata": {},
     "output_type": "execute_result"
    }
   ],
   "source": [
    "X[0]"
   ]
  },
  {
   "cell_type": "code",
   "execution_count": 61,
   "id": "26eaf1a6",
   "metadata": {
    "ExecuteTime": {
     "end_time": "2023-05-15T02:54:05.913377Z",
     "start_time": "2023-05-15T02:54:05.909297Z"
    }
   },
   "outputs": [],
   "source": [
    "X_train,X_test,y_train,y_test = train_test_split(X,y,test_size=0.3,random_state = 1)"
   ]
  },
  {
   "cell_type": "code",
   "execution_count": 53,
   "id": "41f4513c",
   "metadata": {
    "ExecuteTime": {
     "end_time": "2023-05-14T22:51:05.973247Z",
     "start_time": "2023-05-14T22:51:05.964460Z"
    }
   },
   "outputs": [
    {
     "data": {
      "text/plain": [
       "(0, 0)"
      ]
     },
     "execution_count": 53,
     "metadata": {},
     "output_type": "execute_result"
    }
   ],
   "source": [
    "np.sum(np.isnan(X)),np.sum(np.isnan(y))"
   ]
  },
  {
   "cell_type": "code",
   "execution_count": 58,
   "id": "9f8fdc78",
   "metadata": {
    "ExecuteTime": {
     "end_time": "2023-05-14T22:54:02.725806Z",
     "start_time": "2023-05-14T22:54:02.720536Z"
    }
   },
   "outputs": [
    {
     "data": {
      "text/plain": [
       "({0: 212, 1: 357}, array([0.37258348, 0.62741652]))"
      ]
     },
     "execution_count": 58,
     "metadata": {},
     "output_type": "execute_result"
    }
   ],
   "source": [
    "#check if unbalanced data\n",
    "unique, counts = np.unique(y,return_counts=True)\n",
    "dict(zip(unique,counts)),counts/sum(counts)\n"
   ]
  },
  {
   "cell_type": "code",
   "execution_count": 59,
   "id": "e93e0932",
   "metadata": {
    "ExecuteTime": {
     "end_time": "2023-05-14T23:05:59.491138Z",
     "start_time": "2023-05-14T23:05:59.479963Z"
    }
   },
   "outputs": [
    {
     "data": {
      "text/plain": [
       "Counter({0: 212, 1: 357})"
      ]
     },
     "execution_count": 59,
     "metadata": {},
     "output_type": "execute_result"
    }
   ],
   "source": [
    "#or\n",
    "from collections import Counter\n",
    "counter = Counter(y)\n",
    "counter"
   ]
  },
  {
   "cell_type": "code",
   "execution_count": 68,
   "id": "2d3b55ac",
   "metadata": {
    "ExecuteTime": {
     "end_time": "2023-05-15T02:56:47.210046Z",
     "start_time": "2023-05-15T02:56:47.205998Z"
    }
   },
   "outputs": [],
   "source": [
    "lr = linear_model.LogisticRegression(max_iter=10000)\n",
    "# https://scikit-learn.org/stable/modules/generated/sklearn.linear_model.LogisticRegression.html#sklearn.linear_model.LogisticRegression\n",
    "# penalty:\n",
    "# None: no penalty is added;\n",
    "# 'l2': add a L2 penalty term and it is the default choice;\n",
    "# 'l1': add a L1 penalty term;\n",
    "# 'elasticnet': both L1 and L2 penalty terms are added."
   ]
  },
  {
   "cell_type": "code",
   "execution_count": 69,
   "id": "9bf0feb9",
   "metadata": {
    "ExecuteTime": {
     "end_time": "2023-05-15T02:56:48.222353Z",
     "start_time": "2023-05-15T02:56:47.703029Z"
    }
   },
   "outputs": [
    {
     "data": {
      "text/plain": [
       "LogisticRegression(max_iter=10000)"
      ]
     },
     "execution_count": 69,
     "metadata": {},
     "output_type": "execute_result"
    }
   ],
   "source": [
    "lr.fit(X_train,y_train)"
   ]
  },
  {
   "cell_type": "code",
   "execution_count": 72,
   "id": "da894a63",
   "metadata": {
    "ExecuteTime": {
     "end_time": "2023-05-15T03:06:11.033468Z",
     "start_time": "2023-05-15T03:06:11.024002Z"
    }
   },
   "outputs": [
    {
     "data": {
      "text/plain": [
       "(0.9473684210526315, 0.9384920634920635, 0.9589041095890412)"
      ]
     },
     "execution_count": 72,
     "metadata": {},
     "output_type": "execute_result"
    }
   ],
   "source": [
    "y_pred_lr = lr.predict(X_test)\n",
    "accuracy_score(y_test,y_pred_lr),roc_auc_score(y_test,y_pred_lr),f1_score(y_test,y_pred_lr)"
   ]
  },
  {
   "cell_type": "markdown",
   "id": "8fadba37",
   "metadata": {
    "ExecuteTime": {
     "end_time": "2023-05-15T03:23:42.775330Z",
     "start_time": "2023-05-15T03:23:42.770774Z"
    }
   },
   "source": [
    "# 2. Tree-based Models\n",
    "## 2.1 Desicion Tree"
   ]
  },
  {
   "cell_type": "code",
   "execution_count": 74,
   "id": "9cf90898",
   "metadata": {
    "ExecuteTime": {
     "end_time": "2023-05-15T03:29:09.160444Z",
     "start_time": "2023-05-15T03:29:08.546577Z"
    }
   },
   "outputs": [],
   "source": [
    "from sklearn import tree"
   ]
  },
  {
   "cell_type": "code",
   "execution_count": 76,
   "id": "2133c620",
   "metadata": {
    "ExecuteTime": {
     "end_time": "2023-05-15T03:30:00.855837Z",
     "start_time": "2023-05-15T03:30:00.847233Z"
    }
   },
   "outputs": [],
   "source": [
    "iris = datasets.load_iris()\n",
    "X,y = iris.data,iris.target\n",
    "X_train,X_test,y_train,y_test = train_test_split(X,y,test_size=0.3,random_state = 1)"
   ]
  },
  {
   "cell_type": "code",
   "execution_count": 77,
   "id": "670dbb72",
   "metadata": {
    "ExecuteTime": {
     "end_time": "2023-05-15T04:11:57.599157Z",
     "start_time": "2023-05-15T04:11:57.590722Z"
    }
   },
   "outputs": [],
   "source": [
    "clf = tree.DecisionTreeClassifier()\n",
    "clf = clf.fit(X_train,y_train)"
   ]
  },
  {
   "cell_type": "code",
   "execution_count": 78,
   "id": "b839c960",
   "metadata": {
    "ExecuteTime": {
     "end_time": "2023-05-15T04:12:13.685742Z",
     "start_time": "2023-05-15T04:12:13.681540Z"
    }
   },
   "outputs": [],
   "source": [
    "pred = clf.predict(X_test)"
   ]
  },
  {
   "cell_type": "code",
   "execution_count": 81,
   "id": "8e41784f",
   "metadata": {
    "ExecuteTime": {
     "end_time": "2023-05-15T04:25:05.632681Z",
     "start_time": "2023-05-15T04:25:05.627689Z"
    }
   },
   "outputs": [
    {
     "data": {
      "text/plain": [
       "array([0, 1, 1, 0, 2, 1, 2, 0, 0, 2, 1, 0, 2, 1, 1, 0, 1, 1, 0, 0, 1, 1,\n",
       "       2, 0, 2, 1, 0, 0, 1, 2, 1, 2, 1, 2, 2, 0, 1, 0, 1, 2, 2, 0, 1, 2,\n",
       "       1])"
      ]
     },
     "execution_count": 81,
     "metadata": {},
     "output_type": "execute_result"
    }
   ],
   "source": [
    "pred"
   ]
  },
  {
   "cell_type": "code",
   "execution_count": 82,
   "id": "4816e3a0",
   "metadata": {
    "ExecuteTime": {
     "end_time": "2023-05-15T04:25:13.738149Z",
     "start_time": "2023-05-15T04:25:13.731760Z"
    }
   },
   "outputs": [
    {
     "data": {
      "text/plain": [
       "array([0, 1, 1, 0, 2, 1, 2, 0, 0, 2, 1, 0, 2, 1, 1, 0, 1, 1, 0, 0, 1, 1,\n",
       "       1, 0, 2, 1, 0, 0, 1, 2, 1, 2, 1, 2, 2, 0, 1, 0, 1, 2, 2, 0, 2, 2,\n",
       "       1])"
      ]
     },
     "execution_count": 82,
     "metadata": {},
     "output_type": "execute_result"
    }
   ],
   "source": [
    "y_test"
   ]
  },
  {
   "cell_type": "code",
   "execution_count": 83,
   "id": "2032cc05",
   "metadata": {
    "ExecuteTime": {
     "end_time": "2023-05-15T04:26:07.953776Z",
     "start_time": "2023-05-15T04:26:07.947237Z"
    }
   },
   "outputs": [
    {
     "data": {
      "text/plain": [
       "(0.9555555555555556, 0.9555555555555556)"
      ]
     },
     "execution_count": 83,
     "metadata": {},
     "output_type": "execute_result"
    }
   ],
   "source": [
    "accuracy_score(y_test,pred),f1_score(y_test,pred,average='micro')"
   ]
  },
  {
   "cell_type": "code",
   "execution_count": null,
   "id": "700e9b43",
   "metadata": {},
   "outputs": [],
   "source": []
  }
 ],
 "metadata": {
  "kernelspec": {
   "display_name": "Python 3",
   "language": "python",
   "name": "python3"
  },
  "language_info": {
   "codemirror_mode": {
    "name": "ipython",
    "version": 3
   },
   "file_extension": ".py",
   "mimetype": "text/x-python",
   "name": "python",
   "nbconvert_exporter": "python",
   "pygments_lexer": "ipython3",
   "version": "3.9.7"
  }
 },
 "nbformat": 4,
 "nbformat_minor": 5
}
