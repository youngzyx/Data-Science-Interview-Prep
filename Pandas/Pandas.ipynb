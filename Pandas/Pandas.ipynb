{
 "cells": [
  {
   "cell_type": "code",
   "execution_count": 13,
   "id": "545224c1",
   "metadata": {
    "ExecuteTime": {
     "end_time": "2023-05-10T22:52:01.735523Z",
     "start_time": "2023-05-10T22:52:01.733129Z"
    }
   },
   "outputs": [],
   "source": [
    "import pandas as pd\n",
    "import numpy as np"
   ]
  },
  {
   "cell_type": "markdown",
   "id": "e6f5fccd",
   "metadata": {
    "ExecuteTime": {
     "end_time": "2023-05-10T20:40:11.216964Z",
     "start_time": "2023-05-10T20:40:11.201961Z"
    }
   },
   "source": [
    "# Pandas Series"
   ]
  },
  {
   "cell_type": "markdown",
   "id": "6cd6c4d2",
   "metadata": {},
   "source": [
    "1. Write a Pandas program to create and display a one-dimensional array-like object containing an array of data using Pandas module."
   ]
  },
  {
   "cell_type": "code",
   "execution_count": 3,
   "id": "4fcfe2b4",
   "metadata": {
    "ExecuteTime": {
     "end_time": "2023-05-10T20:41:15.941556Z",
     "start_time": "2023-05-10T20:41:15.926512Z"
    }
   },
   "outputs": [
    {
     "data": {
      "text/plain": [
       "0    1\n",
       "1    2\n",
       "2    3\n",
       "3    4\n",
       "4    5\n",
       "dtype: int64"
      ]
     },
     "execution_count": 3,
     "metadata": {},
     "output_type": "execute_result"
    }
   ],
   "source": [
    "ds = pd.Series([1,2,3,4,5])\n",
    "ds"
   ]
  },
  {
   "cell_type": "code",
   "execution_count": 5,
   "id": "245edb3e",
   "metadata": {
    "ExecuteTime": {
     "end_time": "2023-05-10T20:42:09.871229Z",
     "start_time": "2023-05-10T20:42:09.865323Z"
    }
   },
   "outputs": [
    {
     "data": {
      "text/plain": [
       "[1, 2, 3, 4, 5]"
      ]
     },
     "execution_count": 5,
     "metadata": {},
     "output_type": "execute_result"
    }
   ],
   "source": [
    "# 2. Write a Pandas program to convert a Panda module Series to Python list and it's type.\n",
    "ds.to_list()"
   ]
  },
  {
   "cell_type": "code",
   "execution_count": 6,
   "id": "165e565b",
   "metadata": {
    "ExecuteTime": {
     "end_time": "2023-05-10T20:43:46.349196Z",
     "start_time": "2023-05-10T20:43:46.340414Z"
    }
   },
   "outputs": [
    {
     "data": {
      "text/plain": [
       "0    1\n",
       "1    1\n",
       "2    1\n",
       "3    1\n",
       "4    1\n",
       "dtype: int64"
      ]
     },
     "execution_count": 6,
     "metadata": {},
     "output_type": "execute_result"
    }
   ],
   "source": [
    "# 3. Write a Pandas program to add, subtract, multiple and divide two Pandas Series.\n",
    "#    Sample Series: [2, 4, 6, 8, 10], [1, 3, 5, 7, 9]\n",
    "ds1 = pd.Series([2,4,6,8,10])\n",
    "ds2 = pd.Series([1,3,5,7,9])\n",
    "ds1 -ds2"
   ]
  },
  {
   "cell_type": "code",
   "execution_count": 7,
   "id": "677d4e28",
   "metadata": {
    "ExecuteTime": {
     "end_time": "2023-05-10T20:43:54.217293Z",
     "start_time": "2023-05-10T20:43:54.208740Z"
    }
   },
   "outputs": [
    {
     "data": {
      "text/plain": [
       "0     3\n",
       "1     7\n",
       "2    11\n",
       "3    15\n",
       "4    19\n",
       "dtype: int64"
      ]
     },
     "execution_count": 7,
     "metadata": {},
     "output_type": "execute_result"
    }
   ],
   "source": [
    "ds1+ds2"
   ]
  },
  {
   "cell_type": "code",
   "execution_count": 8,
   "id": "3e4508e4",
   "metadata": {
    "ExecuteTime": {
     "end_time": "2023-05-10T20:43:59.146926Z",
     "start_time": "2023-05-10T20:43:59.139509Z"
    }
   },
   "outputs": [
    {
     "data": {
      "text/plain": [
       "0     2\n",
       "1    12\n",
       "2    30\n",
       "3    56\n",
       "4    90\n",
       "dtype: int64"
      ]
     },
     "execution_count": 8,
     "metadata": {},
     "output_type": "execute_result"
    }
   ],
   "source": [
    "ds1*ds2"
   ]
  },
  {
   "cell_type": "code",
   "execution_count": 9,
   "id": "d2e056e3",
   "metadata": {
    "ExecuteTime": {
     "end_time": "2023-05-10T20:44:08.443974Z",
     "start_time": "2023-05-10T20:44:08.436349Z"
    }
   },
   "outputs": [
    {
     "data": {
      "text/plain": [
       "0    2.000000\n",
       "1    1.333333\n",
       "2    1.200000\n",
       "3    1.142857\n",
       "4    1.111111\n",
       "dtype: float64"
      ]
     },
     "execution_count": 9,
     "metadata": {},
     "output_type": "execute_result"
    }
   ],
   "source": [
    "ds1/ds2"
   ]
  },
  {
   "cell_type": "code",
   "execution_count": 10,
   "id": "f29eec10",
   "metadata": {
    "ExecuteTime": {
     "end_time": "2023-05-10T20:44:44.172734Z",
     "start_time": "2023-05-10T20:44:44.166116Z"
    }
   },
   "outputs": [
    {
     "data": {
      "text/plain": [
       "0    True\n",
       "1    True\n",
       "2    True\n",
       "3    True\n",
       "4    True\n",
       "dtype: bool"
      ]
     },
     "execution_count": 10,
     "metadata": {},
     "output_type": "execute_result"
    }
   ],
   "source": [
    "# 4. Write a Pandas program to compare the elements of the two Pandas Series.\n",
    "#    Sample Series: [2, 4, 6, 8, 10], [1, 3, 5, 7, 10]\n",
    "ds1>ds2"
   ]
  },
  {
   "cell_type": "code",
   "execution_count": 12,
   "id": "59c8e247",
   "metadata": {
    "ExecuteTime": {
     "end_time": "2023-05-10T20:45:44.958777Z",
     "start_time": "2023-05-10T20:45:44.945950Z"
    }
   },
   "outputs": [
    {
     "data": {
      "text/plain": [
       "a    100\n",
       "b    200\n",
       "c    300\n",
       "d    400\n",
       "dtype: int64"
      ]
     },
     "execution_count": 12,
     "metadata": {},
     "output_type": "execute_result"
    }
   ],
   "source": [
    "# 5. Write a Pandas program to convert a dictionary to a Pandas series\n",
    "dic = {'a':100,'b':200,'c':300,'d':400}\n",
    "ds4 = pd.Series(dic)\n",
    "ds4"
   ]
  },
  {
   "cell_type": "code",
   "execution_count": 15,
   "id": "e2e225ca",
   "metadata": {
    "ExecuteTime": {
     "end_time": "2023-05-10T22:52:32.738807Z",
     "start_time": "2023-05-10T22:52:32.733780Z"
    }
   },
   "outputs": [
    {
     "data": {
      "text/plain": [
       "0    1\n",
       "1    2\n",
       "2    3\n",
       "3    4\n",
       "4    5\n",
       "dtype: int64"
      ]
     },
     "execution_count": 15,
     "metadata": {},
     "output_type": "execute_result"
    }
   ],
   "source": [
    "# 6. Write a Pandas program to convert a NumPy array to a Pandas series.\n",
    "arr = np.array([1,2,3,4,5])\n",
    "ds5 = pd.Series(arr)\n",
    "ds5"
   ]
  },
  {
   "cell_type": "code",
   "execution_count": 17,
   "id": "46537c6f",
   "metadata": {
    "ExecuteTime": {
     "end_time": "2023-05-10T23:09:37.469694Z",
     "start_time": "2023-05-10T23:09:37.459817Z"
    }
   },
   "outputs": [
    {
     "data": {
      "text/plain": [
       "0       100\n",
       "1       200\n",
       "2    python\n",
       "3    300.12\n",
       "4       400\n",
       "dtype: object"
      ]
     },
     "execution_count": 17,
     "metadata": {},
     "output_type": "execute_result"
    }
   ],
   "source": [
    "# 7. Write a Pandas program to change the data type of given a column or a Series.\n",
    "ds6 = pd.Series([100,200,'python',300.12,400])\n",
    "ds6"
   ]
  },
  {
   "cell_type": "code",
   "execution_count": 18,
   "id": "2d9d4862",
   "metadata": {
    "ExecuteTime": {
     "end_time": "2023-05-10T23:10:16.800994Z",
     "start_time": "2023-05-10T23:10:16.790216Z"
    }
   },
   "outputs": [
    {
     "data": {
      "text/plain": [
       "0    100.00\n",
       "1    200.00\n",
       "2       NaN\n",
       "3    300.12\n",
       "4    400.00\n",
       "dtype: float64"
      ]
     },
     "execution_count": 18,
     "metadata": {},
     "output_type": "execute_result"
    }
   ],
   "source": [
    "ds7 = pd.to_numeric(ds6,errors='coerce')\n",
    "ds7"
   ]
  },
  {
   "cell_type": "code",
   "execution_count": 22,
   "id": "fa83816e",
   "metadata": {
    "ExecuteTime": {
     "end_time": "2023-05-10T23:12:12.844017Z",
     "start_time": "2023-05-10T23:12:12.838012Z"
    }
   },
   "outputs": [
    {
     "data": {
      "text/plain": [
       "pandas.core.series.Series"
      ]
     },
     "execution_count": 22,
     "metadata": {},
     "output_type": "execute_result"
    }
   ],
   "source": [
    "# 8. Write a Pandas program to convert the first column of a DataFrame as a Series.\n",
    "d = {'col1': [1, 2, 3, 4, 7, 11], 'col2': [4, 5, 6, 9, 5, 0], 'col3': [7, 5, 8, 12, 1,11]}\n",
    "df = pd.DataFrame(data=d)\n",
    "type(df['col1'])"
   ]
  },
  {
   "cell_type": "code",
   "execution_count": 24,
   "id": "b7b555a2",
   "metadata": {
    "ExecuteTime": {
     "end_time": "2023-05-10T23:14:09.313514Z",
     "start_time": "2023-05-10T23:14:09.307223Z"
    }
   },
   "outputs": [
    {
     "data": {
      "text/plain": [
       "array([100.  , 200.  ,    nan, 300.12, 400.  ])"
      ]
     },
     "execution_count": 24,
     "metadata": {},
     "output_type": "execute_result"
    }
   ],
   "source": [
    "# 9. Write a Pandas program to convert a given Series to an array.\n",
    "ds7.values"
   ]
  },
  {
   "cell_type": "code",
   "execution_count": 26,
   "id": "4da22357",
   "metadata": {
    "ExecuteTime": {
     "end_time": "2023-05-10T23:56:32.362922Z",
     "start_time": "2023-05-10T23:56:32.350994Z"
    }
   },
   "outputs": [
    {
     "data": {
      "text/plain": [
       "0       Red\n",
       "1     Green\n",
       "2     White\n",
       "3       Red\n",
       "4     Black\n",
       "5    Yellow\n",
       "dtype: object"
      ]
     },
     "execution_count": 26,
     "metadata": {},
     "output_type": "execute_result"
    }
   ],
   "source": [
    "# 10. Write a Pandas program to convert Series of lists to one Series.\n",
    "s = pd.Series([\n",
    "    ['Red', 'Green', 'White'],\n",
    "    ['Red', 'Black'],\n",
    "    ['Yellow']])\n",
    "s1 = s.apply(pd.Series).stack().reset_index(drop = True)\n",
    "s1"
   ]
  },
  {
   "cell_type": "code",
   "execution_count": 27,
   "id": "967cc81c",
   "metadata": {
    "ExecuteTime": {
     "end_time": "2023-05-10T23:56:42.028487Z",
     "start_time": "2023-05-10T23:56:42.008143Z"
    }
   },
   "outputs": [
    {
     "data": {
      "text/html": [
       "<div>\n",
       "<style scoped>\n",
       "    .dataframe tbody tr th:only-of-type {\n",
       "        vertical-align: middle;\n",
       "    }\n",
       "\n",
       "    .dataframe tbody tr th {\n",
       "        vertical-align: top;\n",
       "    }\n",
       "\n",
       "    .dataframe thead th {\n",
       "        text-align: right;\n",
       "    }\n",
       "</style>\n",
       "<table border=\"1\" class=\"dataframe\">\n",
       "  <thead>\n",
       "    <tr style=\"text-align: right;\">\n",
       "      <th></th>\n",
       "      <th>0</th>\n",
       "      <th>1</th>\n",
       "      <th>2</th>\n",
       "    </tr>\n",
       "  </thead>\n",
       "  <tbody>\n",
       "    <tr>\n",
       "      <th>0</th>\n",
       "      <td>Red</td>\n",
       "      <td>Green</td>\n",
       "      <td>White</td>\n",
       "    </tr>\n",
       "    <tr>\n",
       "      <th>1</th>\n",
       "      <td>Red</td>\n",
       "      <td>Black</td>\n",
       "      <td>NaN</td>\n",
       "    </tr>\n",
       "    <tr>\n",
       "      <th>2</th>\n",
       "      <td>Yellow</td>\n",
       "      <td>NaN</td>\n",
       "      <td>NaN</td>\n",
       "    </tr>\n",
       "  </tbody>\n",
       "</table>\n",
       "</div>"
      ],
      "text/plain": [
       "        0      1      2\n",
       "0     Red  Green  White\n",
       "1     Red  Black    NaN\n",
       "2  Yellow    NaN    NaN"
      ]
     },
     "execution_count": 27,
     "metadata": {},
     "output_type": "execute_result"
    }
   ],
   "source": [
    "s.apply(pd.Series)"
   ]
  },
  {
   "cell_type": "code",
   "execution_count": 29,
   "id": "c5a06210",
   "metadata": {
    "ExecuteTime": {
     "end_time": "2023-05-11T00:57:19.177357Z",
     "start_time": "2023-05-11T00:57:19.170666Z"
    }
   },
   "outputs": [
    {
     "data": {
      "text/plain": [
       "4     Black\n",
       "1     Green\n",
       "0       Red\n",
       "3       Red\n",
       "2     White\n",
       "5    Yellow\n",
       "dtype: object"
      ]
     },
     "execution_count": 29,
     "metadata": {},
     "output_type": "execute_result"
    }
   ],
   "source": [
    "#11. Write a Pandas program to sort a given Series.\n",
    "s1.sort_values()"
   ]
  },
  {
   "cell_type": "code",
   "execution_count": 30,
   "id": "21ae282b",
   "metadata": {
    "ExecuteTime": {
     "end_time": "2023-05-11T01:01:01.358483Z",
     "start_time": "2023-05-11T01:01:01.353873Z"
    }
   },
   "outputs": [],
   "source": [
    "# 12. Write a Pandas program to add some data to an existing Series.\n",
    "s = pd.Series(['100', '200', 'python', '300.12', '400'])\n",
    "new_s = pd.concat([s, pd.Series([500, \"php\"])], ignore_index=True)"
   ]
  },
  {
   "cell_type": "code",
   "execution_count": 31,
   "id": "8d4d9300",
   "metadata": {
    "ExecuteTime": {
     "end_time": "2023-05-11T01:01:54.849754Z",
     "start_time": "2023-05-11T01:01:54.828391Z"
    }
   },
   "outputs": [
    {
     "name": "stdout",
     "output_type": "stream",
     "text": [
      "Original Data Series:\n",
      "A    1\n",
      "B    2\n",
      "C    3\n",
      "D    4\n",
      "E    5\n",
      "dtype: int64\n",
      "Data Series after changing the order of index:\n",
      "B    2\n",
      "A    1\n",
      "C    3\n",
      "D    4\n",
      "E    5\n",
      "dtype: int64\n"
     ]
    }
   ],
   "source": [
    "# Write a Pandas program to change the order of index of a given series.\n",
    "s = pd.Series(data = [1,2,3,4,5], index = ['A', 'B', 'C','D','E'])\n",
    "print(\"Original Data Series:\")\n",
    "print(s)\n",
    "s = s.reindex(index = ['B','A','C','D','E'])\n",
    "print(\"Data Series after changing the order of index:\")\n",
    "print(s)"
   ]
  },
  {
   "cell_type": "code",
   "execution_count": null,
   "id": "51285641",
   "metadata": {},
   "outputs": [],
   "source": []
  }
 ],
 "metadata": {
  "kernelspec": {
   "display_name": "Python 3",
   "language": "python",
   "name": "python3"
  },
  "language_info": {
   "codemirror_mode": {
    "name": "ipython",
    "version": 3
   },
   "file_extension": ".py",
   "mimetype": "text/x-python",
   "name": "python",
   "nbconvert_exporter": "python",
   "pygments_lexer": "ipython3",
   "version": "3.9.7"
  }
 },
 "nbformat": 4,
 "nbformat_minor": 5
}
