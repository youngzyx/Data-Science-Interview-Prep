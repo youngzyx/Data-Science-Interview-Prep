{
 "cells": [
  {
   "cell_type": "markdown",
   "id": "718170d5",
   "metadata": {},
   "source": [
    "- Time Complexity: O(Log N)\n",
    "- Space Complexity: O(1)"
   ]
  },
  {
   "cell_type": "markdown",
   "id": "d907b03d",
   "metadata": {},
   "source": [
    "# Template"
   ]
  },
  {
   "cell_type": "code",
   "execution_count": 1,
   "id": "ea05413c",
   "metadata": {
    "ExecuteTime": {
     "end_time": "2023-05-12T22:48:10.456918Z",
     "start_time": "2023-05-12T22:48:10.439331Z"
    }
   },
   "outputs": [],
   "source": [
    "def search(self, nums, target):\n",
    "    \"\"\"\n",
    "    :type nums: List[int]\n",
    "    :type target: int\n",
    "    :rtype: int\n",
    "    \"\"\"\n",
    "    left,right = 0,len(nums)-1\n",
    "    while left <= right:\n",
    "        mid = (left+right)//2\n",
    "        if nums[mid] == target:\n",
    "            return mid\n",
    "        elif nums[mid]>target:\n",
    "            right = mid-1\n",
    "        else:\n",
    "            left = mid+1\n",
    "    return -1\n",
    "\n",
    "# https://leetcode.com/problems/binary-search"
   ]
  },
  {
   "cell_type": "markdown",
   "id": "31d8e0e0",
   "metadata": {},
   "source": [
    "## Binary Search with range\n",
    "- https://leetcode.com/problems/find-first-and-last-position-of-element-in-sorted-array"
   ]
  },
  {
   "cell_type": "code",
   "execution_count": 2,
   "id": "06258baa",
   "metadata": {
    "ExecuteTime": {
     "end_time": "2023-05-13T03:52:33.669009Z",
     "start_time": "2023-05-13T03:52:33.656664Z"
    }
   },
   "outputs": [],
   "source": [
    "class Solution(object):\n",
    "    def searchRange(self, nums, target):\n",
    "        \n",
    "        lower_bound = self.findBound(nums, target, True)\n",
    "        if (lower_bound == -1):\n",
    "            return [-1, -1]\n",
    "        \n",
    "        upper_bound = self.findBound(nums, target, False)\n",
    "        \n",
    "        return [lower_bound, upper_bound]\n",
    "        \n",
    "    def findBound(self, nums, target, isFirst):\n",
    "        \n",
    "        N = len(nums)\n",
    "        begin, end = 0, N - 1\n",
    "        while begin <= end:\n",
    "            mid = int((begin + end) / 2)    \n",
    "            \n",
    "            if nums[mid] == target:\n",
    "                \n",
    "                if isFirst:\n",
    "                    # This means we found our lower bound.\n",
    "                    if mid == begin or nums[mid - 1] < target:\n",
    "                        return mid\n",
    "\n",
    "                    # Search on the left side for the bound.\n",
    "                    end = mid - 1\n",
    "                else:\n",
    "                    \n",
    "                    # This means we found our upper bound.\n",
    "                    if mid == end or nums[mid + 1] > target:\n",
    "                        return mid\n",
    "                    \n",
    "                    # Search on the right side for the bound.\n",
    "                    begin = mid + 1\n",
    "            \n",
    "            elif nums[mid] > target:\n",
    "                end = mid - 1\n",
    "            else:\n",
    "                begin = mid + 1\n",
    "        \n",
    "        return -1\n",
    "\n",
    "# my own solution is a little bit slower as below. There might be some corner case when we have n target numbers \n",
    "# so the two while loop would be linear search with TC O(n)\n",
    "\n",
    "class Solution(object):\n",
    "    def searchRange(self, nums, target):\n",
    "        \"\"\"\n",
    "        :type nums: List[int]\n",
    "        :type target: int\n",
    "        :rtype: List[int]\n",
    "        \"\"\"\n",
    "        left,right = 0,len(nums)-1\n",
    "        first,last = -1,-1\n",
    "        while left <= right:\n",
    "            mid = (left+right)//2\n",
    "            if nums[mid]==target:\n",
    "                first,last = mid,mid\n",
    "                while first>=1 and nums[first-1] == target:\n",
    "                    first -=1\n",
    "                while last <= len(nums)-2 and nums[last+1] == target:\n",
    "                    last +=1\n",
    "                return [first,last]\n",
    "            elif nums[mid]<target:\n",
    "                left = mid+1\n",
    "            else:\n",
    "                right = mid-1\n",
    "        return [first,last]"
   ]
  },
  {
   "cell_type": "code",
   "execution_count": null,
   "id": "ded8b83e",
   "metadata": {},
   "outputs": [],
   "source": []
  }
 ],
 "metadata": {
  "kernelspec": {
   "display_name": "Python 3",
   "language": "python",
   "name": "python3"
  },
  "language_info": {
   "codemirror_mode": {
    "name": "ipython",
    "version": 3
   },
   "file_extension": ".py",
   "mimetype": "text/x-python",
   "name": "python",
   "nbconvert_exporter": "python",
   "pygments_lexer": "ipython3",
   "version": "3.9.7"
  }
 },
 "nbformat": 4,
 "nbformat_minor": 5
}
